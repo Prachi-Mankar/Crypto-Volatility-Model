{
 "cells": [
  {
   "cell_type": "markdown",
   "id": "144e1952",
   "metadata": {},
   "source": [
    "### 1.Import libraries and define coin path"
   ]
  },
  {
   "cell_type": "code",
   "execution_count": 35,
   "id": "f6684c45",
   "metadata": {},
   "outputs": [],
   "source": [
    "import os\n",
    "import pandas as pd\n",
    "import numpy as np\n",
    "import matplotlib.pyplot as plt\n",
    "from sklearn.ensemble import RandomForestRegressor\n",
    "from xgboost import XGBRegressor\n",
    "from sklearn.metrics import mean_squared_error, mean_absolute_error, r2_score\n",
    "from sklearn.model_selection import train_test_split\n",
    "import joblib\n",
    "\n",
    "coin_info = {\n",
    "    \"bitcoin\": \"outputs/bitcoin_merged_sentiment.csv\",\n",
    "    \"ethereum\": \"outputs/ethereum_merged_sentiment.csv\",\n",
    "    \"solana\": \"outputs/solana_merged_sentiment.csv\",\n",
    "    \"cardano\": \"outputs/cardano_merged_sentiment.csv\"\n",
    "}"
   ]
  },
  {
   "cell_type": "markdown",
   "id": "ba919ec8",
   "metadata": {},
   "source": [
    "### 2.Define function to create lag features"
   ]
  },
  {
   "cell_type": "code",
   "execution_count": 36,
   "id": "1d5a4d88",
   "metadata": {},
   "outputs": [],
   "source": [
    "def create_lag_features(df, lags=3):\n",
    "    for lag in range(1, lags+1):\n",
    "        df[f'returns_lag{lag}'] = df['returns'].shift(lag)\n",
    "        df[f'sentiment_lag{lag}'] = df['fear_greed_score'].shift(lag)\n",
    "    df.dropna(inplace=True)\n",
    "    return df"
   ]
  },
  {
   "cell_type": "code",
   "execution_count": 37,
   "id": "fc665cc0",
   "metadata": {},
   "outputs": [
    {
     "name": "stdout",
     "output_type": "stream",
     "text": [
      "fear_greed_score    int64\n",
      "dtype: object\n"
     ]
    }
   ],
   "source": [
    "df = pd.read_csv(\"outputs/bitcoin_merged_sentiment.csv\")  # change path if needed\n",
    "df['date'] = pd.to_datetime(df['date'])\n",
    "\n",
    "# Drop non-numeric columns\n",
    "X = df.drop(columns=['returns', 'date', 'sentiment_label'])  # also 'volatility' if that's the target\n",
    "y = df['returns']\n",
    "# STEP 3: Check types (optional debug)\n",
    "print(X.dtypes)\n",
    "\n",
    "# STEP 4: Train-test split\n",
    "X_train, X_test, y_train, y_test = train_test_split(\n",
    "    X, y, test_size=0.2, random_state=42, shuffle=False\n",
    ")"
   ]
  },
  {
   "cell_type": "markdown",
   "id": "4e53dcd8",
   "metadata": {},
   "source": [
    "### 3.Train Random Forest model"
   ]
  },
  {
   "cell_type": "code",
   "execution_count": 38,
   "id": "e1336c91",
   "metadata": {},
   "outputs": [
    {
     "name": "stdout",
     "output_type": "stream",
     "text": [
      "\n",
      "Random Forest:\n",
      "MSE: 0.0006658987342820316\n",
      "MAE: 0.018706336494837134\n",
      "R2: -0.2743745633235064\n"
     ]
    }
   ],
   "source": [
    "rf_model = RandomForestRegressor(n_estimators=100, random_state=42)\n",
    "rf_model.fit(X_train, y_train)\n",
    "rf_preds = rf_model.predict(X_test)\n",
    "\n",
    "print(\"\\nRandom Forest:\")\n",
    "print(\"MSE:\", mean_squared_error(y_test, rf_preds))\n",
    "print(\"MAE:\", mean_absolute_error(y_test, rf_preds))\n",
    "print(\"R2:\", r2_score(y_test, rf_preds))"
   ]
  },
  {
   "cell_type": "markdown",
   "id": "b41cff5c",
   "metadata": {},
   "source": [
    "### 4.Train XGBoost model"
   ]
  },
  {
   "cell_type": "code",
   "execution_count": 39,
   "id": "e56e0367",
   "metadata": {},
   "outputs": [
    {
     "name": "stdout",
     "output_type": "stream",
     "text": [
      "\n",
      "XGBoost:\n",
      "MSE: 0.0006577488942794492\n",
      "MAE: 0.018769514198713946\n",
      "R2: -0.25877767409733066\n"
     ]
    }
   ],
   "source": [
    "xgb_model = XGBRegressor(n_estimators=100, learning_rate=0.1, random_state=42)\n",
    "xgb_model.fit(X_train, y_train)\n",
    "xgb_preds = xgb_model.predict(X_test)\n",
    "\n",
    "print(\"\\nXGBoost:\")\n",
    "print(\"MSE:\", mean_squared_error(y_test, xgb_preds))\n",
    "print(\"MAE:\", mean_absolute_error(y_test, xgb_preds))\n",
    "print(\"R2:\", r2_score(y_test, xgb_preds))\n"
   ]
  },
  {
   "cell_type": "markdown",
   "id": "03f81881",
   "metadata": {},
   "source": [
    "### 5.Core Function to Train Models and Save Plots"
   ]
  },
  {
   "cell_type": "code",
   "execution_count": 51,
   "id": "ec04edad",
   "metadata": {},
   "outputs": [
    {
     "name": "stdout",
     "output_type": "stream",
     "text": [
      "\n",
      "\n",
      "=== BITCOIN ===\n",
      "✅ Models trained and plots saved for BITCOIN\n",
      "\n",
      "\n",
      "=== ETHEREUM ===\n",
      "✅ Models trained and plots saved for ETHEREUM\n",
      "\n",
      "\n",
      "=== SOLANA ===\n",
      "✅ Models trained and plots saved for SOLANA\n",
      "\n",
      "\n",
      "=== CARDANO ===\n",
      "✅ Models trained and plots saved for CARDANO\n"
     ]
    }
   ],
   "source": [
    "os.makedirs(\"../models\", exist_ok=True)\n",
    "os.makedirs(\"../results\", exist_ok=True)\n",
    "\n",
    "for coin, path in coin_info.items():\n",
    "    print(f\"\\n\\n=== {coin.upper()} ===\")\n",
    "\n",
    "    if not os.path.exists(path):\n",
    "        print(f\"❌ File not found for {coin}: {path}\")\n",
    "        continue\n",
    "\n",
    "    df = pd.read_csv(path)\n",
    "    df['date'] = pd.to_datetime(df['date'])\n",
    "    df = create_lag_features(df)\n",
    "\n",
    "    # Create volatility if not present\n",
    "    if 'volatility' not in df.columns:\n",
    "        df['volatility'] = df['returns'].rolling(window=7).std()\n",
    "\n",
    "    df.dropna(inplace=True)\n",
    "\n",
    "    # Features & targets\n",
    "    features = [col for col in df.columns if 'lag' in col]\n",
    "    X = df[features]\n",
    "    y_vol = df['volatility']\n",
    "    y_ret = df['returns']\n",
    "\n",
    "    # Train/test split\n",
    "    X_train, X_test, y_vol_train, y_vol_test = train_test_split(X, y_vol, test_size=0.2, shuffle=False)\n",
    "    _, _, y_ret_train, y_ret_test = train_test_split(X, y_ret, test_size=0.2, shuffle=False)\n",
    "\n",
    "    # Train Volatility Models\n",
    "    rf_vol_model = RandomForestRegressor(n_estimators=100, random_state=42)\n",
    "    rf_vol_model.fit(X_train, y_vol_train)\n",
    "    rf_vol_preds = rf_vol_model.predict(X_test)\n",
    "    rf_vol_r2 = r2_score(y_vol_test, rf_vol_preds)\n",
    "\n",
    "    xgb_vol_model = XGBRegressor(n_estimators=100, learning_rate=0.1, random_state=42)\n",
    "    xgb_vol_model.fit(X_train, y_vol_train)\n",
    "    xgb_vol_preds = xgb_vol_model.predict(X_test)\n",
    "    xgb_vol_r2 = r2_score(y_vol_test, xgb_vol_preds)\n",
    "\n",
    "    # Save Volatility Models\n",
    "    joblib.dump(rf_vol_model, f\"../models/{coin}_rf_vol_model.pkl\")\n",
    "    joblib.dump(xgb_vol_model, f\"../models/{coin}_xgb_vol_model.pkl\")\n",
    "\n",
    "    # Train Return Models\n",
    "    rf_ret_model = RandomForestRegressor(n_estimators=100, random_state=42)\n",
    "    rf_ret_model.fit(X_train, y_ret_train)\n",
    "    rf_ret_preds = rf_ret_model.predict(X_test)\n",
    "    rf_ret_r2 = r2_score(y_ret_test, rf_ret_preds)\n",
    "\n",
    "    xgb_ret_model = XGBRegressor(n_estimators=100, learning_rate=0.1, random_state=42)\n",
    "    xgb_ret_model.fit(X_train, y_ret_train)\n",
    "    xgb_ret_preds = xgb_ret_model.predict(X_test)\n",
    "    xgb_ret_r2 = r2_score(y_ret_test, xgb_ret_preds)\n",
    "\n",
    "    # Save Return Models\n",
    "    joblib.dump(rf_ret_model, f\"../models/{coin}_rf_ret_model.pkl\")\n",
    "    joblib.dump(xgb_ret_model, f\"../models/{coin}_xgb_ret_model.pkl\")\n",
    "\n",
    "    # Plot Volatility\n",
    "    fig1, ax1 = plt.subplots(figsize=(10, 4))\n",
    "    ax1.plot(y_vol_test.values[:50], label='Actual', color='black')\n",
    "    ax1.plot(rf_vol_preds[:50], label=f'RF (R²={rf_vol_r2:.2f})', linestyle='--', color='blue')\n",
    "    ax1.plot(xgb_vol_preds[:50], label=f'XGB (R²={xgb_vol_r2:.2f})', linestyle='--', color='green')\n",
    "    ax1.set_title(f\"{coin.upper()} - Volatility Prediction\")\n",
    "    ax1.legend()\n",
    "    ax1.grid(True)\n",
    "    plt.tight_layout()\n",
    "    fig1.savefig(f\"../results/{coin}_volatility_pred.png\")\n",
    "    plt.close()\n",
    "\n",
    "    # Plot Returns\n",
    "    fig2, ax2 = plt.subplots(figsize=(10, 4))\n",
    "    ax2.plot(y_ret_test.values[:50], label='Actual', color='black')\n",
    "    ax2.plot(rf_ret_preds[:50], label=f'RF Returns (R²={rf_ret_r2:.2f})', linestyle='--', color='orange')\n",
    "    ax2.plot(xgb_ret_preds[:50], label=f'XGB Returns (R²={xgb_ret_r2:.2f})', linestyle='--', color='purple')\n",
    "    ax2.set_title(f\"{coin.upper()} - Returns Prediction\")\n",
    "    ax2.legend()\n",
    "    ax2.grid(True)\n",
    "    plt.tight_layout()\n",
    "    fig2.savefig(f\"../results/{coin}_returns_pred.png\")\n",
    "    plt.close()\n",
    "\n",
    "    print(f\"✅ Models trained and plots saved for {coin.upper()}\")"
   ]
  },
  {
   "cell_type": "code",
   "execution_count": 53,
   "id": "a1e13fa9",
   "metadata": {},
   "outputs": [
    {
     "name": "stdout",
     "output_type": "stream",
     "text": [
      "<class 'sklearn.ensemble._forest.RandomForestRegressor'>\n"
     ]
    }
   ],
   "source": [
    "import joblib\n",
    "model = joblib.load(\"../models/bitcoin_rf_ret_model.pkl\")\n",
    "print(type(model))  # should be RandomForestRegressor\n"
   ]
  },
  {
   "cell_type": "markdown",
   "id": "97c38e57",
   "metadata": {},
   "source": [
    "### 6.Save models"
   ]
  },
  {
   "cell_type": "code",
   "execution_count": 50,
   "id": "c72783ec",
   "metadata": {},
   "outputs": [
    {
     "data": {
      "text/plain": [
       "['../models/cardano_xgb_ret_model.pkl']"
      ]
     },
     "execution_count": 50,
     "metadata": {},
     "output_type": "execute_result"
    }
   ],
   "source": [
    "# Save models\n",
    "os.makedirs(\"../models\", exist_ok=True)\n",
    "joblib.dump(rf_model, f\"../models/{coin}_rf_vol_model.pkl\")\n",
    "joblib.dump(xgb_model, f\"../models/{coin}_xgb_vol_model.pkl\")\n",
    "joblib.dump(rf_ret_model, f\"../models/{coin}_rf_ret_model.pkl\")\n",
    "joblib.dump(xgb_ret_model, f\"../models/{coin}_xgb_ret_model.pkl\")"
   ]
  }
 ],
 "metadata": {
  "kernelspec": {
   "display_name": "base",
   "language": "python",
   "name": "python3"
  },
  "language_info": {
   "codemirror_mode": {
    "name": "ipython",
    "version": 3
   },
   "file_extension": ".py",
   "mimetype": "text/x-python",
   "name": "python",
   "nbconvert_exporter": "python",
   "pygments_lexer": "ipython3",
   "version": "3.12.3"
  }
 },
 "nbformat": 4,
 "nbformat_minor": 5
}
