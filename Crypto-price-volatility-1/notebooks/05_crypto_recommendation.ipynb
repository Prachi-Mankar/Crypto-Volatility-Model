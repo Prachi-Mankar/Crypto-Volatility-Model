{
 "cells": [
  {
   "cell_type": "markdown",
   "id": "d0e8cc60",
   "metadata": {},
   "source": [
    "### 1.Load Final Metrics"
   ]
  },
  {
   "cell_type": "code",
   "execution_count": 52,
   "id": "f0e1e46f",
   "metadata": {},
   "outputs": [
    {
     "data": {
      "text/html": [
       "<div>\n",
       "<style scoped>\n",
       "    .dataframe tbody tr th:only-of-type {\n",
       "        vertical-align: middle;\n",
       "    }\n",
       "\n",
       "    .dataframe tbody tr th {\n",
       "        vertical-align: top;\n",
       "    }\n",
       "\n",
       "    .dataframe thead th {\n",
       "        text-align: right;\n",
       "    }\n",
       "</style>\n",
       "<table border=\"1\" class=\"dataframe\">\n",
       "  <thead>\n",
       "    <tr style=\"text-align: right;\">\n",
       "      <th></th>\n",
       "      <th>avg_return</th>\n",
       "      <th>volatility</th>\n",
       "      <th>avg_sentiment</th>\n",
       "      <th>cluster</th>\n",
       "    </tr>\n",
       "    <tr>\n",
       "      <th>coin</th>\n",
       "      <th></th>\n",
       "      <th></th>\n",
       "      <th></th>\n",
       "      <th></th>\n",
       "    </tr>\n",
       "  </thead>\n",
       "  <tbody>\n",
       "    <tr>\n",
       "      <th>bitcoin</th>\n",
       "      <td>0.001704</td>\n",
       "      <td>0.026143</td>\n",
       "      <td>55.05</td>\n",
       "      <td>0</td>\n",
       "    </tr>\n",
       "    <tr>\n",
       "      <th>ethereum</th>\n",
       "      <td>0.000007</td>\n",
       "      <td>0.038671</td>\n",
       "      <td>55.05</td>\n",
       "      <td>0</td>\n",
       "    </tr>\n",
       "    <tr>\n",
       "      <th>solana</th>\n",
       "      <td>0.001341</td>\n",
       "      <td>0.045597</td>\n",
       "      <td>55.05</td>\n",
       "      <td>0</td>\n",
       "    </tr>\n",
       "    <tr>\n",
       "      <th>cardano</th>\n",
       "      <td>0.003152</td>\n",
       "      <td>0.061690</td>\n",
       "      <td>55.05</td>\n",
       "      <td>1</td>\n",
       "    </tr>\n",
       "  </tbody>\n",
       "</table>\n",
       "</div>"
      ],
      "text/plain": [
       "          avg_return  volatility  avg_sentiment  cluster\n",
       "coin                                                    \n",
       "bitcoin     0.001704    0.026143          55.05        0\n",
       "ethereum    0.000007    0.038671          55.05        0\n",
       "solana      0.001341    0.045597          55.05        0\n",
       "cardano     0.003152    0.061690          55.05        1"
      ]
     },
     "execution_count": 52,
     "metadata": {},
     "output_type": "execute_result"
    }
   ],
   "source": [
    "import pandas as pd\n",
    "\n",
    "summary_df = pd.read_csv(\"outputs/crypto_clustered.csv\", index_col=\"coin\")\n",
    "summary_df"
   ]
  },
  {
   "cell_type": "markdown",
   "id": "6fa08ab9",
   "metadata": {},
   "source": [
    "### 2.Normalize Scores"
   ]
  },
  {
   "cell_type": "code",
   "execution_count": 64,
   "id": "deab78f7",
   "metadata": {},
   "outputs": [],
   "source": [
    "from sklearn.preprocessing import MinMaxScaler\n",
    "\n",
    "# Initialize scaler\n",
    "scaler = MinMaxScaler()\n",
    "\n",
    "# Normalize selected columns\n",
    "normalized = scaler.fit_transform(summary_df[['avg_return', 'volatility', 'avg_sentiment']])\n",
    "\n",
    "# Create new DataFrame from normalized values\n",
    "normalized_df = pd.DataFrame(\n",
    "    normalized,\n",
    "    columns=['norm_avg_return', 'norm_volatility', 'norm_avg_sentiment'],\n",
    "    index=summary_df.index\n",
    ")\n",
    "\n"
   ]
  },
  {
   "cell_type": "markdown",
   "id": "59b42209",
   "metadata": {},
   "source": [
    "### 3.Assign Weights & Final Ranking Score"
   ]
  },
  {
   "cell_type": "code",
   "execution_count": 54,
   "id": "cb2e0453",
   "metadata": {},
   "outputs": [],
   "source": [
    "# Remove duplicated columns by keeping only the first occurrence\n",
    "summary_df = summary_df.loc[:, ~summary_df.columns.duplicated()]\n"
   ]
  },
  {
   "cell_type": "code",
   "execution_count": 55,
   "id": "5c361229",
   "metadata": {},
   "outputs": [
    {
     "name": "stdout",
     "output_type": "stream",
     "text": [
      "          norm_avg_return  norm_volatility  norm_avg_sentiment\n",
      "coin                                                          \n",
      "bitcoin          0.539500         0.000000                 0.0\n",
      "ethereum         0.000000         0.352438                 0.0\n",
      "solana           0.424148         0.547292                 0.0\n",
      "cardano          1.000000         1.000000                 0.0\n"
     ]
    }
   ],
   "source": [
    "print(summary_df[['norm_avg_return', 'norm_volatility', 'norm_avg_sentiment']].head())"
   ]
  },
  {
   "cell_type": "code",
   "execution_count": 85,
   "id": "4e8d126b",
   "metadata": {},
   "outputs": [
    {
     "name": "stdout",
     "output_type": "stream",
     "text": [
      "               ranking_score\n",
      "coin                        \n",
      "bitcoin             0.215800\n",
      "ethereum           -0.105732\n",
      "solana              0.005472\n",
      "cardano             0.100000\n",
      "ranking_score            NaN\n"
     ]
    }
   ],
   "source": [
    "# Define weights\n",
    "w1, w2, w3 = 0.4, 0.3, 0.3\n",
    "\n",
    "# Double check all necessary normalized columns exist\n",
    "assert all(col in summary_df.columns for col in ['norm_avg_return', 'norm_volatility', 'norm_avg_sentiment']), \"Missing normalized columns!\"\n",
    "\n",
    "# Calculate ranking_score\n",
    "summary_df['ranking_score'] = (\n",
    "    w1 * summary_df['norm_avg_return']\n",
    "    - w2 * summary_df['norm_volatility']\n",
    "    + w3 * summary_df['norm_avg_sentiment']\n",
    ")\n",
    "\n",
    "# Show that the column now exists\n",
    "print(summary_df[['ranking_score']])\n"
   ]
  },
  {
   "cell_type": "markdown",
   "id": "72915341",
   "metadata": {},
   "source": [
    "### 4.Visualize Top Recommended Cryptos"
   ]
  },
  {
   "cell_type": "code",
   "execution_count": 88,
   "id": "e478005b",
   "metadata": {},
   "outputs": [
    {
     "data": {
      "image/png": "[encoded data removed]",
      "text/plain": [
       "<Figure size 1000x500 with 1 Axes>"
      ]
     },
     "metadata": {},
     "output_type": "display_data"
    }
   ],
   "source": [
    "# Clean invalid row (if index is 'ranking_score')\n",
    "summary_df = summary_df[summary_df.index != \"ranking_score\"]\n",
    "\n",
    "# Sort and plot\n",
    "summary_df = summary_df.sort_values(by=\"ranking_score\", ascending=False)\n",
    "\n",
    "import matplotlib.pyplot as plt\n",
    "plt.figure(figsize=(10, 5))\n",
    "summary_df[\"ranking_score\"].plot(kind='bar', title=\" Crypto Recommendation Score\", color=\"skyblue\", edgecolor='black')\n",
    "plt.ylabel(\"Final Score\")\n",
    "plt.xticks(rotation=45)\n",
    "plt.grid(True)\n",
    "plt.tight_layout()\n",
    "plt.show()\n"
   ]
  },
  {
   "cell_type": "markdown",
   "id": "f88fc2c5",
   "metadata": {},
   "source": [
    "### 5.Save Final Table"
   ]
  },
  {
   "cell_type": "code",
   "execution_count": 90,
   "id": "0cabb027",
   "metadata": {},
   "outputs": [
    {
     "name": "stdout",
     "output_type": "stream",
     "text": [
      "✅ Saved final recommendations!\n"
     ]
    }
   ],
   "source": [
    "summary_df.to_csv(\"outputs/final_crypto_recommendations.csv\")\n",
    "print(\"✅ Saved final recommendations!\")\n"
   ]
  },
  {
   "cell_type": "markdown",
   "id": "1fbb97af",
   "metadata": {},
   "source": [
    "###  Optional Recommendation Printout"
   ]
  },
  {
   "cell_type": "code",
   "execution_count": 93,
   "id": "8f61875e",
   "metadata": {},
   "outputs": [
    {
     "name": "stdout",
     "output_type": "stream",
     "text": [
      "🔮 Recommended Crypto: **BITCOIN**\n",
      "\n",
      "Reason:\n",
      "- Highest ranking score (0.22)\n",
      "- Low volatility\n",
      "- Strong returns\n",
      "- Positive sentiment\n"
     ]
    }
   ],
   "source": [
    "best_coin = summary_df.index[0]\n",
    "print(f\"🔮 Recommended Crypto: **{best_coin.upper()}**\")\n",
    "print(f\"\\nReason:\\n- Highest ranking score ({summary_df.loc[best_coin, 'ranking_score']:.2f})\\n- Low volatility\\n- Strong returns\\n- Positive sentiment\")\n"
   ]
  }
 ],
 "metadata": {
  "kernelspec": {
   "display_name": "base",
   "language": "python",
   "name": "python3"
  },
  "language_info": {
   "codemirror_mode": {
    "name": "ipython",
    "version": 3
   },
   "file_extension": ".py",
   "mimetype": "text/x-python",
   "name": "python",
   "nbconvert_exporter": "python",
   "pygments_lexer": "ipython3",
   "version": "3.12.3"
  }
 },
 "nbformat": 4,
 "nbformat_minor": 5
}
