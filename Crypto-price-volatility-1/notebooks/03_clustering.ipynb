{
 "cells": [
  {
   "cell_type": "markdown",
   "id": "0836cf51",
   "metadata": {},
   "source": [
    "### 1.Aggregate Key Metrics"
   ]
  },
  {
   "cell_type": "code",
   "execution_count": 1,
   "id": "cbe276a8",
   "metadata": {},
   "outputs": [
    {
     "data": {
      "text/html": [
       "<div>\n",
       "<style scoped>\n",
       "    .dataframe tbody tr th:only-of-type {\n",
       "        vertical-align: middle;\n",
       "    }\n",
       "\n",
       "    .dataframe tbody tr th {\n",
       "        vertical-align: top;\n",
       "    }\n",
       "\n",
       "    .dataframe thead th {\n",
       "        text-align: right;\n",
       "    }\n",
       "</style>\n",
       "<table border=\"1\" class=\"dataframe\">\n",
       "  <thead>\n",
       "    <tr style=\"text-align: right;\">\n",
       "      <th></th>\n",
       "      <th>avg_return</th>\n",
       "      <th>volatility</th>\n",
       "      <th>avg_sentiment</th>\n",
       "    </tr>\n",
       "    <tr>\n",
       "      <th>coin</th>\n",
       "      <th></th>\n",
       "      <th></th>\n",
       "      <th></th>\n",
       "    </tr>\n",
       "  </thead>\n",
       "  <tbody>\n",
       "    <tr>\n",
       "      <th>bitcoin</th>\n",
       "      <td>0.001704</td>\n",
       "      <td>0.026143</td>\n",
       "      <td>55.05</td>\n",
       "    </tr>\n",
       "    <tr>\n",
       "      <th>ethereum</th>\n",
       "      <td>0.000007</td>\n",
       "      <td>0.038671</td>\n",
       "      <td>55.05</td>\n",
       "    </tr>\n",
       "    <tr>\n",
       "      <th>solana</th>\n",
       "      <td>0.001341</td>\n",
       "      <td>0.045597</td>\n",
       "      <td>55.05</td>\n",
       "    </tr>\n",
       "    <tr>\n",
       "      <th>cardano</th>\n",
       "      <td>0.003152</td>\n",
       "      <td>0.061690</td>\n",
       "      <td>55.05</td>\n",
       "    </tr>\n",
       "  </tbody>\n",
       "</table>\n",
       "</div>"
      ],
      "text/plain": [
       "          avg_return  volatility  avg_sentiment\n",
       "coin                                           \n",
       "bitcoin     0.001704    0.026143          55.05\n",
       "ethereum    0.000007    0.038671          55.05\n",
       "solana      0.001341    0.045597          55.05\n",
       "cardano     0.003152    0.061690          55.05"
      ]
     },
     "execution_count": 1,
     "metadata": {},
     "output_type": "execute_result"
    }
   ],
   "source": [
    "import pandas as pd\n",
    "import numpy as np\n",
    "\n",
    "# List of crypto files and names\n",
    "coins = {\n",
    "    'bitcoin': 'outputs/bitcoin_merged_sentiment.csv',\n",
    "    'ethereum': 'outputs/ethereum_merged_sentiment.csv',\n",
    "    'solana': 'outputs/solana_merged_sentiment.csv',\n",
    "    'cardano': 'outputs/cardano_merged_sentiment.csv'\n",
    "}\n",
    "\n",
    "# Prepare a list to store metrics\n",
    "metrics = []\n",
    "\n",
    "# Calculate metrics for each coin\n",
    "for coin, path in coins.items():\n",
    "    df = pd.read_csv(path)\n",
    "    avg_return = df['returns'].mean()\n",
    "    volatility = df['returns'].std()\n",
    "    avg_sentiment = df['fear_greed_score'].mean()\n",
    "    \n",
    "    metrics.append([coin, avg_return, volatility, avg_sentiment])\n",
    "\n",
    "# Create DataFrame\n",
    "metrics_df = pd.DataFrame(metrics, columns=['coin', 'avg_return', 'volatility', 'avg_sentiment'])\n",
    "metrics_df.set_index('coin', inplace=True)\n",
    "metrics_df\n"
   ]
  },
  {
   "cell_type": "markdown",
   "id": "f088dbe4",
   "metadata": {},
   "source": [
    "### 2.Scale the Features"
   ]
  },
  {
   "cell_type": "code",
   "execution_count": 4,
   "id": "fd7bcf23",
   "metadata": {},
   "outputs": [],
   "source": [
    "#Use StandardScaler to normalize the data\n",
    "from sklearn.preprocessing import StandardScaler\n",
    "\n",
    "scaler = StandardScaler()\n",
    "scaled_data = scaler.fit_transform(metrics_df)"
   ]
  },
  {
   "cell_type": "markdown",
   "id": "5c561bc4",
   "metadata": {},
   "source": [
    "### 3.Reduce Dimensions(PCA)"
   ]
  },
  {
   "cell_type": "code",
   "execution_count": 3,
   "id": "2398196c",
   "metadata": {},
   "outputs": [],
   "source": [
    "#This helps in visualizing clusters in 2D\n",
    "from sklearn.decomposition import PCA\n",
    "\n",
    "pca = PCA(n_components=2)\n",
    "pca_data = pca.fit_transform(scaled_data)"
   ]
  },
  {
   "cell_type": "markdown",
   "id": "200cb986",
   "metadata": {},
   "source": [
    "### 4.Perform Clustering (KMeans)"
   ]
  },
  {
   "cell_type": "code",
   "execution_count": 8,
   "id": "3d329858",
   "metadata": {},
   "outputs": [
    {
     "name": "stderr",
     "output_type": "stream",
     "text": [
      "c:\\Users\\dell\\anaconda3\\Lib\\site-packages\\sklearn\\cluster\\_kmeans.py:1429: UserWarning: KMeans is known to have a memory leak on Windows with MKL, when there are less chunks than available threads. You can avoid it by setting the environment variable OMP_NUM_THREADS=1.\n",
      "  warnings.warn(\n"
     ]
    }
   ],
   "source": [
    "# Set the number of threads to 1 to avoid the memory leak:\n",
    "# Add this before fitting your KMeans model:\n",
    "import os\n",
    "os.environ[\"OMP_NUM_THREADS\"] = \"1\"\n",
    "\n",
    "\n",
    "# We’ll use KMeans clustering with 2 or 3 clusters.\n",
    "from sklearn.cluster import KMeans\n",
    "\n",
    "kmeans = KMeans(n_clusters=2, random_state=42)\n",
    "clusters = kmeans.fit_predict(pca_data)\n",
    "metrics_df['cluster'] = clusters\n"
   ]
  },
  {
   "cell_type": "markdown",
   "id": "7aca4c24",
   "metadata": {},
   "source": [
    "### 5.Plot Clusters"
   ]
  },
  {
   "cell_type": "code",
   "execution_count": 9,
   "id": "2926efbd",
   "metadata": {},
   "outputs": [
    {
     "data": {
      "image/png": "[encoded data removed]",
      "text/plain": [
       "<Figure size 800x600 with 1 Axes>"
      ]
     },
     "metadata": {},
     "output_type": "display_data"
    }
   ],
   "source": [
    "import matplotlib.pyplot as plt\n",
    "\n",
    "plt.figure(figsize=(8, 6))\n",
    "plt.scatter(pca_data[:, 0], pca_data[:, 1], c=clusters, cmap='viridis', s=100)\n",
    "\n",
    "for i, coin in enumerate(metrics_df.index):\n",
    "    plt.text(pca_data[i, 0]+0.02, pca_data[i, 1], coin, fontsize=12)\n",
    "\n",
    "plt.title(\"Crypto Clusters based on Returns, Volatility & Sentiment\")\n",
    "plt.xlabel(\"PCA Component 1\")\n",
    "plt.ylabel(\"PCA Component 2\")\n",
    "plt.grid(True)\n",
    "plt.show()\n"
   ]
  },
  {
   "cell_type": "markdown",
   "id": "318408b5",
   "metadata": {},
   "source": [
    "### 6.Save Clustered Data"
   ]
  },
  {
   "cell_type": "code",
   "execution_count": 10,
   "id": "2e4d12ab",
   "metadata": {},
   "outputs": [],
   "source": [
    "metrics_df.to_csv(\"outputs/crypto_clustered.csv\")"
   ]
  }
 ],
 "metadata": {
  "kernelspec": {
   "display_name": "base",
   "language": "python",
   "name": "python3"
  },
  "language_info": {
   "codemirror_mode": {
    "name": "ipython",
    "version": 3
   },
   "file_extension": ".py",
   "mimetype": "text/x-python",
   "name": "python",
   "nbconvert_exporter": "python",
   "pygments_lexer": "ipython3",
   "version": "3.12.3"
  }
 },
 "nbformat": 4,
 "nbformat_minor": 5
}
